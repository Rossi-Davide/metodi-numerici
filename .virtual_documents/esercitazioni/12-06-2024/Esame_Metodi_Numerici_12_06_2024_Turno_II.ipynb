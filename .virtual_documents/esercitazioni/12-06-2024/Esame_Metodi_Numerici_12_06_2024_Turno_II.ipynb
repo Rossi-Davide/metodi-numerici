





import numpy as np
import sympy
import matplotlib.pyplot as plt
f = lambda x: 2*x**4-3.5*x**3+3/4.0*x**2+x-1.0/4
xx=np.linspace(-1.0,2.0,100)
plt.plot(xx,f(xx),xx,np.zeros_like(xx),'r')


import math
def sign(x):
  """
  Funzione segno che restituisce 1 se x è positivo, 0 se x è zero e -1 se x è negativo.
  """
  return math.copysign(1, x)


def metodo_bisezione(fname, a, b, tolx):
 
 fa=fname(a)
 fb=fname(b)
 if sign(fa)*sign(fb) > 0:
     print("Non è possibile applicare il metodo di bisezione \n")
     return None, None,None

 it = 0
 v_xk = []

 
 
 while abs(b-a)>tolx:
    xk = a+(b-a)/2
    v_xk.append(xk)
    it += 1
    fxk=fname(xk)
    if fxk==0:
      return xk, it, v_xk

    #Controllo dei segni
    if sign(fa)*sign(fxk) > 0: #il nuovo intervallo è [xk,b]
      a = xk
      fa= fxk 
    elif sign(fb)*sign(fxk) > 0:
      b = xk
      fb= fxk
        

 
 return xk, it, v_xk


def newton(fname,fpname,x0,tolx,tolf,nmax):
  
        xk=[]
       
        it=0
        errorex=1+tolx
        erroref=1+tolf
        while it<nmax and errorex>=tolx and erroref>=tolf:
           
           fx0=fname(x0)
           if abs(fpname(x0))<=np.spacing(1):
                print(" derivata prima nulla in x0")
                return None, None,None
           d=f(x0)/fpname(x0) 

           x1=x0-d
           fx1=fname(x1)
           erroref=np.abs(fx1)
           if x1!=0:
                errore=np.abs(d)/np.abs(x1)
           else:
                errore=np.abs(d)

           it=it+1
           x0=x1
           xk.append(x1)
          
        if it==nmax:
            print('Newton: raggiunto massimo numero di iterazioni \n')
            
        
        return x1,it,xk


#la nostra funzione non ammette un solo 0, dunque è un problema mal posto
a=-0.25
b=0.5
tolx=1e-10
tolf=1e-10
xbis,itbis,xkbis=metodo_bisezione(f,a,b,tolx)
print("Soluzione",xbis,"iterazioni",itbis)
#notiamo che non esiste un intervallo valido per trovare la radice in 1.0 perchè i segni della funzione non sono discordi


























**
