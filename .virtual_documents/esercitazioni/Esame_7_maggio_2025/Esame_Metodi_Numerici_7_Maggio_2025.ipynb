














import numpy as np
import scipy as sp
from SolveTriangular import *
M=np.array([[1,1,1],[4,0,1],[0,4,1]])
b=np.array([[-2],[-16],[-16]])



condM=np.linalg.cond(M)
print('Condizionamento di M', condM)
PT, L, U = sp.linalg.lu(M)
t,flag=Lsolve(L, PT.T@b)
a,flag=Usolve(U,t)



import matplotlib.pyplot as plt
import math
Cx=-a[0]/2
Cy=-a[1]/2
r1=math.sqrt((a[0]**2)/4+(a[1]**2)/4-a[2])
print(r1)
t=np.linspace(0,2*np.pi,100)
x=Cx+r1*np.cos(t)
y=Cy+r1*np.sin(t)
plt.plot(x,y,'r-')


def qrLS(A,b):
    n=A.shape[1]  # numero di colonne di A
    Q,R=sp.linalg.qr(A)
    h=Q.T@b
    x,flag = Usolve(R[0:n,0:n],h[0:n])
    residuo=np.linalg.norm(h[n:])**2
    return x,residuo




A=np.array([[1,1,1],[4,0,1],[0,4,1],[5.0,6,1]])
c1=np.array([[-2],[-16],[-16],[-61.0]])
pxi=np.array([1,4,0,5.0])
pyi=np.array([1,0,4,6.0])
print(A)
#risolvere mediante la decomposizione qr
a1,residuo=qrLS(A,c1)
Cx=-a1[0]/2
Cy=-a1[1]/2
r1=math.sqrt((a1[0]**2)/4+(a1[1]**2)/4-a1[2])
print(r1)
t=np.linspace(0,2*np.pi,100)
x=Cx+r1*np.cos(t)
y=Cy+r1*np.sin(t)
plt.plot(x,y,'r-',pxi,pyi,'bo')






























