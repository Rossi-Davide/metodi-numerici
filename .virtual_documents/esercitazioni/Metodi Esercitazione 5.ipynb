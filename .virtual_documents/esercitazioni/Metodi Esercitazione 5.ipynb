





import numpy as np
f= lambda q: -p+ np.sqrt(p**2+q)
q=10.0**-np.arange(11)
x=f(q)



fstabile= lambda q: q/(p+np.sqrt(p**2+q))
xstabile=fstabile(q)
print("xstabile=",xstabile)





import matplotlib.pyplot as plt
import numpy as np
f2= lambda x: ((1+x)-1)/x
x2= 10.0**(-np.arange(1,21))
plt.semilogx(x2,f2(x2),x2.np.ones_like(x2))









import numpy as np
import math as math
n= 40
p= np.zeros(n)
s= np.zeros(n)
b=np.zeros(n)

b[0]=2

s[0]=1

for i in range(1,n):

    p[i]=b[i-1]*s[i-1]
    b[i]=2*b[i-1]
    s[i]=np.sqrt((1.0-np.sqrt(1-s[i-1]**2))/2.0)

print(p)
plt.plot(np.arange(n),p)

errF = lambda x: abs((x-math.pi)/math.pi)
err = errF(p)
print(err)
plt.plot(np.arange(n),err)

































