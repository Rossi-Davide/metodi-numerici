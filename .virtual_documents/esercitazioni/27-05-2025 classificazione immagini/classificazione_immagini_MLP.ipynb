





from sklearn.neural_network import MLPClassifier
from sklearn.metrics import accuracy_score
import numpy as np
from glob import glob
from os.path import join
from tqdm import tqdm
import cv2








def get_labels(name):
    if 'triangle' in name:
        return 0
    elif 'square' in name:
        return 1
    elif 'rectangle' in name:
        return 2
    elif 'rhombus' in name:
        return 3
    else:
        raise NotImplementedError('Not existing class!')





def extract_features(images, feat_type, img_size):

    labels = []
    features = []

    for image in tqdm(images):

        # open the image
        img = cv2.imread(image, 0)

        # resize the image
        img = cv2.resize(img, (img_size, img_size))

        # compute the features
        if feat_type == 'img':
            img = img / 255.0
            #si perde l'informazione di vicinanza dei pixel
            #appiattiamo l'immagine, è necessario se vogliamo lavorare con multilayer perceptron
            feat = np.ravel(img)
        else:
            raise NotImplementedError('Not implemented feature!')

        # append features and labels
        features.append(feat)
        labels.append(get_labels(image))

    return features, labels





!unzip -q Euclid_dataset.zip -d ./content


dataset_path = './content/Euclid_dataset'
images = glob(join(dataset_path, '*', '*.png'))
print('Images: ', len(images))





print('Prima shuffling: {}'.format(images[:10]))
np.random.shuffle(images)
print('Dopo shuffling: {}'.format(images[:10]))





trainset = images[:int(0.2*len(images))]
valset = images[int(0.2*len(images)):int(0.4*len(images))]
testset = images[int(0.4*len(images)):]
print('Total: {} splitted in Train: {}, Val: {} and Test: {}'.format(len(images), len(trainset), len(valset), len(testset)))





img_size = 32
feature_type = 'img'

train_x, train_y = extract_features(trainset, feature_type, img_size)
val_x, val_y = extract_features(valset, feature_type, img_size)
test_x, test_y = extract_features(testset, feature_type, img_size)

print('Train: {}, Val: {} and Test: {}'.format(len(train_x), len(val_x), len(test_x)))
print('Total: {}'.format(len(train_x) + len(val_x) + len(test_x)))





clf = MLPClassifier()





clf.fit(train_x, train_y)





print('Validation accuracy: {:.3f}'.format(clf.score(val_x, val_y)))





pred_y = clf.predict(test_x)
print('Predicted {} samples: {}'.format(len(pred_y), pred_y))
print('GT {} samples: {}'.format(len(test_y), test_y))





print('Final Accuracy: {:.3f}'.format(accuracy_score(test_y, pred_y)))



