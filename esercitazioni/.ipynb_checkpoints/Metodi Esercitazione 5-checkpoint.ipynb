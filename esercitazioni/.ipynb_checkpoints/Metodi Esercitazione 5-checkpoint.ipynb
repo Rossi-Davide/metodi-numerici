{
 "cells": [
  {
   "cell_type": "markdown",
   "id": "d2903ef7-4c36-4b4f-b8dd-01fa2f35dfc5",
   "metadata": {},
   "source": [
    "## Esercitazione 5  del    18 Marzo 2025\n"
   ]
  },
  {
   "cell_type": "markdown",
   "id": "272b4576-75c6-44ff-be01-b3f68c394cff",
   "metadata": {},
   "source": [
    "## Esercizio 1 \n",
    "Si consideri l'equazione quadratica $x^2 + 2px - q = 0 $ con $p=10^5$ e $q=10^{-i}$, i=0,..,10\n",
    "\n",
    "- Si stabilisca se il problema relativo al calcolo della soluzione $x= -p+\\sqrt{p^2+q}$ risulta essere ben\n",
    "      condizionato per tutti i valori di q assegnati;\n",
    "\n",
    "- Si calcoli la soluzione x dell'equazione mediante la formula risolutiva indicata al punto precedente e si dica se l'algoritmo di calcolo risulta numericamente\n",
    "stabile  per i valori di q assegnati\n",
    "\n",
    "- si individui una forma stabile per il calcolo della soluzione e si verifichi se l'algoritmo di calcolo risulta numericamente stabile per i valori di q assegnati."
   ]
  },
  {
   "cell_type": "code",
   "execution_count": 2,
   "id": "4664c7f1-e74d-42e3-a899-b09114e7aec2",
   "metadata": {},
   "outputs": [
    {
     "ename": "NameError",
     "evalue": "name 'p' is not defined",
     "output_type": "error",
     "traceback": [
      "\u001b[1;31m---------------------------------------------------------------------------\u001b[0m",
      "\u001b[1;31mNameError\u001b[0m                                 Traceback (most recent call last)",
      "Cell \u001b[1;32mIn[2], line 4\u001b[0m\n\u001b[0;32m      2\u001b[0m f\u001b[38;5;241m=\u001b[39m \u001b[38;5;28;01mlambda\u001b[39;00m q: \u001b[38;5;241m-\u001b[39mp\u001b[38;5;241m+\u001b[39m np\u001b[38;5;241m.\u001b[39msqrt(p\u001b[38;5;241m*\u001b[39m\u001b[38;5;241m*\u001b[39m\u001b[38;5;241m2\u001b[39m\u001b[38;5;241m+\u001b[39mq)\n\u001b[0;32m      3\u001b[0m q\u001b[38;5;241m=\u001b[39m\u001b[38;5;241m10.0\u001b[39m\u001b[38;5;241m*\u001b[39m\u001b[38;5;241m*\u001b[39m\u001b[38;5;241m-\u001b[39mnp\u001b[38;5;241m.\u001b[39marange(\u001b[38;5;241m11\u001b[39m)\n\u001b[1;32m----> 4\u001b[0m x\u001b[38;5;241m=\u001b[39mf(q)\n",
      "Cell \u001b[1;32mIn[2], line 2\u001b[0m, in \u001b[0;36m<lambda>\u001b[1;34m(q)\u001b[0m\n\u001b[0;32m      1\u001b[0m \u001b[38;5;28;01mimport\u001b[39;00m \u001b[38;5;21;01mnumpy\u001b[39;00m \u001b[38;5;28;01mas\u001b[39;00m \u001b[38;5;21;01mnp\u001b[39;00m\n\u001b[1;32m----> 2\u001b[0m f\u001b[38;5;241m=\u001b[39m \u001b[38;5;28;01mlambda\u001b[39;00m q: \u001b[38;5;241m-\u001b[39mp\u001b[38;5;241m+\u001b[39m np\u001b[38;5;241m.\u001b[39msqrt(p\u001b[38;5;241m*\u001b[39m\u001b[38;5;241m*\u001b[39m\u001b[38;5;241m2\u001b[39m\u001b[38;5;241m+\u001b[39mq)\n\u001b[0;32m      3\u001b[0m q\u001b[38;5;241m=\u001b[39m\u001b[38;5;241m10.0\u001b[39m\u001b[38;5;241m*\u001b[39m\u001b[38;5;241m*\u001b[39m\u001b[38;5;241m-\u001b[39mnp\u001b[38;5;241m.\u001b[39marange(\u001b[38;5;241m11\u001b[39m)\n\u001b[0;32m      4\u001b[0m x\u001b[38;5;241m=\u001b[39mf(q)\n",
      "\u001b[1;31mNameError\u001b[0m: name 'p' is not defined"
     ]
    }
   ],
   "source": [
    "import numpy as np\n",
    "f= lambda q: -p+ np.sqrt(p**2+q)\n",
    "q=10.0**-np.arange(11)\n",
    "x=f(q)\n"
   ]
  },
  {
   "cell_type": "code",
   "execution_count": null,
   "id": "8e1cb879-faef-4904-ba08-c0822ed3592f",
   "metadata": {},
   "outputs": [],
   "source": [
    "fstabile= lambda q: q/(p+np.sqrt(p**2+q))\n",
    "xstabile=fstabile(q)\n",
    "print(\"xstabile=\",xstabile)"
   ]
  },
  {
   "cell_type": "markdown",
   "id": "58c23bc2-9296-4e4f-8104-ef937dc4759c",
   "metadata": {},
   "source": [
    "# Esercizio 2\n",
    "\n",
    "Si stabilisca se il problema relativo al calcolo della funzione $f(x)= \\frac  {(1+x)-1 }  {x }$ per $x= 10^{-i }$ $  i=1,2,...,20$  risulta essere ben\n",
    "condizionato per tutti i valori di x assegnati; verificare sperimentalmente la stabilità numerica dell'algoritmo di valutazione"
   ]
  },
  {
   "cell_type": "code",
   "execution_count": 3,
   "id": "fa705fc3-7674-4a31-8146-e876eef5b9e7",
   "metadata": {},
   "outputs": [
    {
     "ename": "AttributeError",
     "evalue": "'numpy.ndarray' object has no attribute 'np'",
     "output_type": "error",
     "traceback": [
      "\u001b[1;31m---------------------------------------------------------------------------\u001b[0m",
      "\u001b[1;31mAttributeError\u001b[0m                            Traceback (most recent call last)",
      "Cell \u001b[1;32mIn[3], line 5\u001b[0m\n\u001b[0;32m      3\u001b[0m f2\u001b[38;5;241m=\u001b[39m \u001b[38;5;28;01mlambda\u001b[39;00m x: ((\u001b[38;5;241m1\u001b[39m\u001b[38;5;241m+\u001b[39mx)\u001b[38;5;241m-\u001b[39m\u001b[38;5;241m1\u001b[39m)\u001b[38;5;241m/\u001b[39mx\n\u001b[0;32m      4\u001b[0m x2\u001b[38;5;241m=\u001b[39m \u001b[38;5;241m10.0\u001b[39m\u001b[38;5;241m*\u001b[39m\u001b[38;5;241m*\u001b[39m(\u001b[38;5;241m-\u001b[39mnp\u001b[38;5;241m.\u001b[39marange(\u001b[38;5;241m1\u001b[39m,\u001b[38;5;241m21\u001b[39m))\n\u001b[1;32m----> 5\u001b[0m plt\u001b[38;5;241m.\u001b[39msemilogx(x2,f2(x2),x2\u001b[38;5;241m.\u001b[39mnp\u001b[38;5;241m.\u001b[39mones_like(x2))\n",
      "\u001b[1;31mAttributeError\u001b[0m: 'numpy.ndarray' object has no attribute 'np'"
     ]
    }
   ],
   "source": [
    "import matplotlib.pyplot as plt\n",
    "import numpy as np\n",
    "f2= lambda x: ((1+x)-1)/x\n",
    "x2= 10.0**(-np.arange(1,21))\n",
    "plt.semilogx(x2,f2(x2),x2.np.ones_like(x2))\n"
   ]
  },
  {
   "cell_type": "markdown",
   "id": "a4e21560-1013-4ae3-aa74-6b1f27198cf5",
   "metadata": {},
   "source": [
    "## Esercizio 3"
   ]
  },
  {
   "cell_type": "markdown",
   "id": "535f46cb-ded4-4f6f-a9b0-87815d033a30",
   "metadata": {},
   "source": [
    "Realizzate un codice python che implementa il seguente algoritmo. Si tratta dell'implementazione del  metodo di Archimede per l'approssimazione di pi-greco e genera una successione di valori $p_i$, i=1,n, (n scelto dall'utente) che tende a $\\pi$. Verificare se all'aumentare di n, la successione $p_i$ tende a $\\pi$.\n",
    "\n",
    "b[0]=2\n",
    "\n",
    "s[0]=1\n",
    "\n",
    "for i in range(1,n):\n",
    "\n",
    "    p[i]=b[i-1]*s[i-1]\n",
    "    b[i]=2*b[i-1]\n",
    "     s[i]=math.sqrt((1.0-math.sqrt(1-s[i-1]**2))/2.0)\n",
    "\n",
    "- Visualizzate su un grafico gli elementi della successione p[i] calcolata.\n",
    "- Calcolate e visualizzate su un grafico l'errore relativo per ogni componente di p[i], - considerando come valore esatto di pigreco il valore math.pi.\n",
    "\n",
    "- Giustificate i risultati alla luce della teoria.\n",
    "\n",
    "- Proponete una versione stabile dell'algoritmo\n",
    "\n",
    "- Calcolate e visualizzate su un grafico l'errore relativo per ogni componente di p[i] prodotta dall'algoritmo stabilizzato, considerando come valore esatto di\n",
    "pigreco il valore math.pi."
   ]
  },
  {
   "cell_type": "code",
   "execution_count": 28,
   "id": "6245a37d-47de-4f77-9234-ea6778d641ef",
   "metadata": {},
   "outputs": [
    {
     "name": "stdout",
     "output_type": "stream",
     "text": [
      "[0.         2.         2.82842712 3.06146746 3.12144515 3.13654849\n",
      " 3.14033116 3.14127725 3.1415138  3.14157294 3.14158773 3.14159142\n",
      " 3.14159235 3.14159258 3.14159263 3.14159265 3.14159265 3.14159261\n",
      " 3.14159291 3.14159413 3.14159655 3.14159655 3.14167427 3.14182968\n",
      " 3.14245127 3.14245127 3.16227766 3.16227766 3.46410162 4.\n",
      " 0.         0.         0.         0.         0.         0.\n",
      " 0.         0.         0.         0.        ]\n",
      "[1.00000000e+00 3.63380228e-01 9.96836838e-02 2.55046416e-02\n",
      " 6.41314886e-03 1.60560696e-03 4.01546850e-04 1.00395784e-04\n",
      " 2.50995130e-05 6.27491342e-06 1.56872974e-06 3.92184886e-07\n",
      " 9.80326701e-08 2.45241179e-08 6.40647821e-09 3.87636534e-10\n",
      " 2.63197007e-09 1.47103965e-08 8.19170109e-08 4.68426547e-07\n",
      " 1.24144517e-06 1.24144517e-06 2.59777256e-05 7.54484510e-05\n",
      " 2.73306886e-04 2.73306886e-04 6.58424209e-03 6.58424209e-03\n",
      " 1.02657791e-01 2.73239545e-01 1.00000000e+00 1.00000000e+00\n",
      " 1.00000000e+00 1.00000000e+00 1.00000000e+00 1.00000000e+00\n",
      " 1.00000000e+00 1.00000000e+00 1.00000000e+00 1.00000000e+00]\n"
     ]
    },
    {
     "data": {
      "text/plain": [
       "[<matplotlib.lines.Line2D at 0x1e9fa595070>]"
      ]
     },
     "execution_count": 28,
     "metadata": {},
     "output_type": "execute_result"
    },
    {
     "data": {
      "image/png": "[encoded data removed]",
      "text/plain": [
       "<Figure size 640x480 with 1 Axes>"
      ]
     },
     "metadata": {},
     "output_type": "display_data"
    }
   ],
   "source": [
    "import numpy as np\n",
    "import math as math\n",
    "n= 40\n",
    "p= np.zeros(n)\n",
    "s= np.zeros(n)\n",
    "b=np.zeros(n)\n",
    "\n",
    "b[0]=2\n",
    "\n",
    "s[0]=1\n",
    "\n",
    "for i in range(1,n):\n",
    "\n",
    "    p[i]=b[i-1]*s[i-1]\n",
    "    b[i]=2*b[i-1]\n",
    "    s[i]=np.sqrt((1.0-np.sqrt(1-s[i-1]**2))/2.0)\n",
    "\n",
    "print(p)\n",
    "plt.plot(np.arange(n),p)\n",
    "\n",
    "errF = lambda x: abs((x-math.pi)/math.pi)\n",
    "err = errF(p)\n",
    "print(err)\n",
    "plt.plot(np.arange(n),err)"
   ]
  },
  {
   "cell_type": "markdown",
   "id": "b7609125-16d1-4652-8945-8128d7ba1ca4",
   "metadata": {},
   "source": [
    "## Esercizio 4   \n",
    "Si consideri lo sviluppo in serie dell'esponenziale $e^x=1+x+\\frac{1}{2!}x^2+\\frac{1}{3!}x^3+\\cdots =\\sum_{k=0}^\\infty \\frac{x^k}{k!} $. Si calcoli un'approssimazione dell'esponenziale troncando ad N=100 termini la serie, per valori di x che variano da -10 a 10 incluso. Si calcoli  per ogni valore di x l'errore relativo del valore approssimato rispetto al valore esatto, ottenuto mediante la funzione exp della libreria numpy. Cosa si osserva? Pensare ad un algoritmo più stabile ricordando che $e^{-x}=\\frac{1}{e^{|x|}}$.\n",
    "\n"
   ]
  },
  {
   "cell_type": "code",
   "execution_count": null,
   "id": "5ed5fed7-5e9f-44c0-9f5a-98fd0ca23fe2",
   "metadata": {},
   "outputs": [],
   "source": []
  },
  {
   "cell_type": "markdown",
   "id": "0205da67-2ed7-4f56-beb7-33b5e38b8216",
   "metadata": {},
   "source": [
    "## Esercizio 5\n",
    "Calcolare l'approssimazione della derivata prima di f(x) = sin(x) in x = 1\n",
    "mediante l'algoritmo del rapporto incrementale (f(x + h) - f(x))/h per valori decrescenti\n",
    "di h, confrontandolo con il valore fornito dalla funzione di libreria per f'(x)\n",
    "mediante calcolo dell'errore relativo."
   ]
  },
  {
   "cell_type": "code",
   "execution_count": null,
   "id": "c841bbeb-c267-4b7f-ad31-9b10572fc986",
   "metadata": {},
   "outputs": [],
   "source": []
  },
  {
   "cell_type": "markdown",
   "id": "abac6a8f-c24b-4b1b-9a3f-71dc3f44fca5",
   "metadata": {},
   "source": [
    "## Esercizio 6\n",
    "Valutazione di un polinomio in un vettore di punti\n",
    "-   Realizzare una function  che mediante lo schema di Horner  valuti un polinomio in un vettore di punti.\n",
    "-   Realizzare una function  che utilizzi l’algoritmo classico per valutare un polinomio in un vettore di punti.\n",
    "-   Valutare   i seguenti polinomi, con i due metodi implementati nei punti precedenti,  sul vettore di punti specificato  e  rappresentarli graficamente. Confrontarne i tempi \n",
    "\n",
    "         p(x)=x^8-16x^7+112x^6-448x^5+1120x^4-1792x^3+1792x^2-1024x+256  da valutare su vettore di  1000000 punti equidistanti in [1.8,2.2]\n",
    "         p(x)= x^11 –8 x^9 +28 x^6 –7 x^4 +12 x^3 –4 x +1   da valutare su vettore di 1000000  punti in [-5:5]\n",
    "         \n",
    "Cosa conferma questo esperimento?\n"
   ]
  },
  {
   "cell_type": "markdown",
   "id": "eb1590d6-07fb-4447-995d-cfedd5d3a613",
   "metadata": {},
   "source": [
    "## Esercizio 7\n",
    "Realizzare un codice python che calcola il valore del polinomio p(x)=(x-2)^8 utilizzando le formule\n",
    "\n",
    "    p=x^8-16x^7+112x^6-448x^5+1120x^4-1792x^3+1792x^2-1024x+256;\n",
    "    p(x)=(x-2)^8\n",
    "    e lo schema di Horner\n",
    "\n",
    "e ne realizza il grafico in un vettore di 10000 equidistanti nell’intervallo [1.8,2.2], [1.9, 2.1],  [1.92,2.08], [1.93,2.07], [1.94,2.06] Spiegare il comportamento osservato. Cosa succede al restringersi dell’intervallo intorno al valore 2, punto in cui questo polinomio si annulla?\n",
    "\n",
    "\n"
   ]
  },
  {
   "cell_type": "markdown",
   "id": "7daf30b3-1cd4-4530-9f18-d5cdb193de42",
   "metadata": {},
   "source": []
  },
  {
   "cell_type": "markdown",
   "id": "6671d3cd-00ce-4e4b-aed9-203b32a86b2f",
   "metadata": {},
   "source": [
    "Si nota che al restringersi dell'intervallo in torno al punto x=2, \n",
    "in cui la funzione si annulla, si evidenzia l'instabilità dell'algoritmo 1\n",
    "rispetto all' algoritmo di Horner che risulta più stabile. \n"
   ]
  },
  {
   "cell_type": "markdown",
   "id": "6d9994ff-a2b8-44b2-a145-10071ac2cdbf",
   "metadata": {},
   "source": []
  },
  {
   "cell_type": "code",
   "execution_count": null,
   "id": "dafd0330-a4de-4430-851c-1ccaa6eeca71",
   "metadata": {},
   "outputs": [],
   "source": []
  },
  {
   "cell_type": "code",
   "execution_count": null,
   "id": "740c7ed0-7ef1-41f9-880d-c360c6ab704b",
   "metadata": {},
   "outputs": [],
   "source": []
  }
 ],
 "metadata": {
  "kernelspec": {
   "display_name": "Python 3 (ipykernel)",
   "language": "python",
   "name": "python3"
  },
  "language_info": {
   "codemirror_mode": {
    "name": "ipython",
    "version": 3
   },
   "file_extension": ".py",
   "mimetype": "text/x-python",
   "name": "python",
   "nbconvert_exporter": "python",
   "pygments_lexer": "ipython3",
   "version": "3.12.4"
  }
 },
 "nbformat": 4,
 "nbformat_minor": 5
}
