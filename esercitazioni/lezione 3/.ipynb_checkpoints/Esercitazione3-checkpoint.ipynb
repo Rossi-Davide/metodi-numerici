{
 "cells": [
  {
   "cell_type": "markdown",
   "id": "2f16cd51-b728-47c0-b39e-f22777b738f3",
   "metadata": {},
   "source": [
    "# Esercitazione 4 Marzo 2025"
   ]
  },
  {
   "cell_type": "markdown",
   "id": "cea7be83-908f-4132-b3df-6eb9633855a9",
   "metadata": {},
   "source": [
    "## Esercizio 1\n",
    "- Costruire due array numpy-array 2d di dimensione 5000x5000 i cui valori sono campionati da una distribuzione gaussiana con media 0 e varianza 1.\n",
    "- Effetuare la somma tra le due matrici con due metodi:\n",
    "\n",
    "        -  utilizzando le operazioni vettoriali \n",
    "        -  considerando due cicli espliciti annidati, su righe e colonne\n",
    "- Confrontare le prestazioni in termini di tempo di esecuzione.\n",
    "        \n"
   ]
  },
  {
   "cell_type": "code",
   "execution_count": 12,
   "id": "58ca893f-4bea-4fd8-b332-d42b1973d498",
   "metadata": {
    "scrolled": true
   },
   "outputs": [],
   "source": [
    "import numpy as np\n",
    "import time as time"
   ]
  },
  {
   "cell_type": "code",
   "execution_count": 13,
   "id": "67e91d5a-8bf0-499b-ab1d-62b3f58038da",
   "metadata": {},
   "outputs": [
    {
     "name": "stdout",
     "output_type": "stream",
     "text": [
      "[[ 1.04876052 -1.25662264 -1.79366424 ... -0.65555053  0.45442105\n",
      "  -0.48437676]\n",
      " [ 1.42290566 -0.31928837 -0.26827447 ... -0.79792283  1.79106959\n",
      "  -1.13054104]\n",
      " [ 0.04819741  3.21232507  0.00710129 ...  0.67851628 -0.19923234\n",
      "  -0.15013199]\n",
      " ...\n",
      " [-0.38371154  0.8950358  -0.11322139 ... -0.36951472  0.09728849\n",
      "   0.23236359]\n",
      " [-0.04311275 -0.95053109  0.7409031  ... -0.25484208 -2.00931154\n",
      "  -1.00452355]\n",
      " [-0.33271747 -0.74890418  0.60197374 ...  0.74592978  1.6574507\n",
      "  -0.46074725]]\n"
     ]
    }
   ],
   "source": [
    "arr1 = np.random.randn(5000,5000)\n",
    "arr2 = np.random.randn(5000,5000)\n",
    "print(arr)"
   ]
  },
  {
   "cell_type": "code",
   "execution_count": 16,
   "id": "d5591ce0-1ab4-4464-8667-653195dff4d3",
   "metadata": {},
   "outputs": [
    {
     "name": "stdout",
     "output_type": "stream",
     "text": [
      "0.08003044128417969\n"
     ]
    }
   ],
   "source": [
    "initial = time.time()\n",
    "sum_vet = arr1 + arr2\n",
    "fin = time.time()\n",
    "print(fin - initial)"
   ]
  },
  {
   "cell_type": "code",
   "execution_count": 17,
   "id": "ee092547-a10d-4e70-9005-23c4b9d25377",
   "metadata": {},
   "outputs": [
    {
     "name": "stdout",
     "output_type": "stream",
     "text": [
      "9.717390537261963\n"
     ]
    }
   ],
   "source": [
    "initial = time.time()\n",
    "n,m = arr1.shape\n",
    "sum_el = np.zeros_like(arr1)\n",
    "for i in range(n):\n",
    "    for j in range(m):\n",
    "        sum_el = arr1[i,j]+arr2[i,j]\n",
    "\n",
    "fin = time.time()\n",
    "print(fin - initial)"
   ]
  },
  {
   "cell_type": "markdown",
   "id": "2cc104af-5376-4b18-9945-9316885a30ed",
   "metadata": {},
   "source": [
    "## Esercizio 2\n",
    "-      Costruire il numpy array  s  formato da 40 valori equidistanti in  [0,20],\n",
    "-      considerarne il reshape in un array 2d che ha 4 righe con un numero opportuno di colonne e dire se il reshape crea una vista o una copia"
   ]
  },
  {
   "cell_type": "code",
   "execution_count": 19,
   "id": "75ffbc60-a5fa-446a-8ecc-9a92e5b13ef8",
   "metadata": {},
   "outputs": [
    {
     "name": "stdout",
     "output_type": "stream",
     "text": [
      "[ 0.          0.51282051  1.02564103  1.53846154  2.05128205  2.56410256\n",
      "  3.07692308  3.58974359  4.1025641   4.61538462  5.12820513  5.64102564\n",
      "  6.15384615  6.66666667  7.17948718  7.69230769  8.20512821  8.71794872\n",
      "  9.23076923  9.74358974 10.25641026 10.76923077 11.28205128 11.79487179\n",
      " 12.30769231 12.82051282 13.33333333 13.84615385 14.35897436 14.87179487\n",
      " 15.38461538 15.8974359  16.41025641 16.92307692 17.43589744 17.94871795\n",
      " 18.46153846 18.97435897 19.48717949 20.        ]\n"
     ]
    }
   ],
   "source": [
    "s = np.linspace(0,20,40)\n",
    "print(s)"
   ]
  },
  {
   "cell_type": "code",
   "execution_count": 22,
   "id": "574fdf1d-a25a-47c7-b397-5c814a7286fc",
   "metadata": {},
   "outputs": [
    {
     "name": "stdout",
     "output_type": "stream",
     "text": [
      "[[ 0.          0.51282051  1.02564103  1.53846154  2.05128205  2.56410256\n",
      "   3.07692308  3.58974359  4.1025641   4.61538462]\n",
      " [ 5.12820513  5.64102564  6.15384615  6.66666667  7.17948718  7.69230769\n",
      "   8.20512821  8.71794872  9.23076923  9.74358974]\n",
      " [10.25641026 10.76923077 11.28205128 11.79487179 12.30769231 12.82051282\n",
      "  13.33333333 13.84615385 14.35897436 14.87179487]\n",
      " [15.38461538 15.8974359  16.41025641 16.92307692 17.43589744 17.94871795\n",
      "  18.46153846 18.97435897 19.48717949 20.        ]]\n"
     ]
    }
   ],
   "source": [
    "s = s.reshape((4,10))\n",
    "print(s)"
   ]
  },
  {
   "cell_type": "markdown",
   "id": "eea06ad9-d12d-4747-92ec-30198a8e0eee",
   "metadata": {},
   "source": [
    "L'operazione di reshape non crea una nuova copia"
   ]
  },
  {
   "cell_type": "markdown",
   "id": "8984c411-28fa-4590-9942-3d6d5bc5c665",
   "metadata": {},
   "source": [
    "## Esercizio 3\n",
    "-     Costruire il numpy array t formato da 100 valori equidistanti in  [0,4]\n",
    "-     considerarne il reshape in un array 2d che ha 4 colonne con un numero opportuno di righe"
   ]
  },
  {
   "cell_type": "code",
   "execution_count": 25,
   "id": "8e276f03-8df1-41c4-9844-539cd928234f",
   "metadata": {},
   "outputs": [
    {
     "name": "stdout",
     "output_type": "stream",
     "text": [
      "[[0.         0.04040404 0.08080808 0.12121212]\n",
      " [0.16161616 0.2020202  0.24242424 0.28282828]\n",
      " [0.32323232 0.36363636 0.4040404  0.44444444]\n",
      " [0.48484848 0.52525253 0.56565657 0.60606061]\n",
      " [0.64646465 0.68686869 0.72727273 0.76767677]\n",
      " [0.80808081 0.84848485 0.88888889 0.92929293]\n",
      " [0.96969697 1.01010101 1.05050505 1.09090909]\n",
      " [1.13131313 1.17171717 1.21212121 1.25252525]\n",
      " [1.29292929 1.33333333 1.37373737 1.41414141]\n",
      " [1.45454545 1.49494949 1.53535354 1.57575758]\n",
      " [1.61616162 1.65656566 1.6969697  1.73737374]\n",
      " [1.77777778 1.81818182 1.85858586 1.8989899 ]\n",
      " [1.93939394 1.97979798 2.02020202 2.06060606]\n",
      " [2.1010101  2.14141414 2.18181818 2.22222222]\n",
      " [2.26262626 2.3030303  2.34343434 2.38383838]\n",
      " [2.42424242 2.46464646 2.50505051 2.54545455]\n",
      " [2.58585859 2.62626263 2.66666667 2.70707071]\n",
      " [2.74747475 2.78787879 2.82828283 2.86868687]\n",
      " [2.90909091 2.94949495 2.98989899 3.03030303]\n",
      " [3.07070707 3.11111111 3.15151515 3.19191919]\n",
      " [3.23232323 3.27272727 3.31313131 3.35353535]\n",
      " [3.39393939 3.43434343 3.47474747 3.51515152]\n",
      " [3.55555556 3.5959596  3.63636364 3.67676768]\n",
      " [3.71717172 3.75757576 3.7979798  3.83838384]\n",
      " [3.87878788 3.91919192 3.95959596 4.        ]]\n"
     ]
    }
   ],
   "source": [
    "t = np.linspace(0,4,100)\n",
    "t = t.reshape((25,4))\n",
    "print(t)"
   ]
  },
  {
   "cell_type": "markdown",
   "id": "497ccc48-1ab8-4247-8e36-0c61e43c643c",
   "metadata": {},
   "source": [
    "## Esercizio 4\n",
    "Costruire il numpy array 1d C  di valori che variano tra 15 e 41 con step 2\n",
    "\n",
    "-     Trasformarlo in un numpy array 2d con shape(7,2) usando il metodo . resize(7,2)  che lavora in-place,  (cioè  modifica l'array esistente).  "
   ]
  },
  {
   "cell_type": "code",
   "execution_count": 28,
   "id": "78b84d6d-802c-4677-82cf-6fda8d5e9f71",
   "metadata": {},
   "outputs": [
    {
     "name": "stdout",
     "output_type": "stream",
     "text": [
      "[15 17 19 21 23 25 27 29 31 33 35 37 39]\n"
     ]
    }
   ],
   "source": [
    "C = np.arange(15,41,2)\n",
    "print(C)"
   ]
  },
  {
   "cell_type": "code",
   "execution_count": 29,
   "id": "00ab220a-8fea-4f12-b219-b8a73bafb8ba",
   "metadata": {},
   "outputs": [],
   "source": [
    "C.resize(7,2)"
   ]
  },
  {
   "cell_type": "markdown",
   "id": "222a582d-184b-47b9-804b-72673a42102e",
   "metadata": {},
   "source": [
    " ## Esercizio 5\n",
    " Creare un array NumPy di 10 numeri interi casuali tra 1 e 100.\n",
    " "
   ]
  },
  {
   "cell_type": "code",
   "execution_count": 31,
   "id": "9eba4f27-9c82-45aa-bf76-a68f0ec282e0",
   "metadata": {},
   "outputs": [
    {
     "name": "stdout",
     "output_type": "stream",
     "text": [
      "[90 15 84 42 85 30 13 58 61 73]\n"
     ]
    }
   ],
   "source": [
    "cas = np.random.randint(1,100,10)\n",
    "print(cas)"
   ]
  },
  {
   "cell_type": "markdown",
   "id": "26b0aef0-fa88-4ec5-923f-8fa9d0664044",
   "metadata": {},
   "source": [
    " ## Esercizio 6\n",
    " Eseguire uno shuffle degli elementi di un numpy-array di 30 numeri interi casuali tra 100 e 200.\n"
   ]
  },
  {
   "cell_type": "code",
   "execution_count": 33,
   "id": "e0d49dc4-5c25-488c-866f-bf8033770cd6",
   "metadata": {},
   "outputs": [
    {
     "name": "stdout",
     "output_type": "stream",
     "text": [
      "[153 184 170 122 101 155 186 149 133 170 196 199 163 194 101 198 154 199\n",
      " 115 138 185 155 187 168 166 135 162 171 165 151]\n"
     ]
    }
   ],
   "source": [
    "cas = np.random.randint(100,200,30)\n",
    "print(cas)"
   ]
  },
  {
   "cell_type": "code",
   "execution_count": 34,
   "id": "8db91cd1-6541-414d-8a96-13d397d50a01",
   "metadata": {},
   "outputs": [
    {
     "name": "stdout",
     "output_type": "stream",
     "text": [
      "[135 168 163 171 199 184 170 170 133 186 155 101 185 122 115 187 194 101\n",
      " 151 198 154 165 196 153 199 155 149 162 166 138]\n"
     ]
    }
   ],
   "source": [
    "np.random.shuffle(cas)\n",
    "print(cas)"
   ]
  },
  {
   "cell_type": "markdown",
   "id": "9e1c800f-6ae8-41cc-94c0-c36445e2ea55",
   "metadata": {},
   "source": [
    "  ## Esercizio 7\n",
    " Creare una permutazione casuale degli elementi di un numpy-array di 20 valori campionati da una distribuzione  gaussiana con media zero e varianza 1, senza modificarlo."
   ]
  },
  {
   "cell_type": "code",
   "execution_count": 38,
   "id": "821c85d7-de63-4c76-ae98-e5cfc5c9e6c4",
   "metadata": {},
   "outputs": [
    {
     "name": "stdout",
     "output_type": "stream",
     "text": [
      "[ 0.22483356  0.51401915 -0.09430827  0.50465345  0.41546709  0.39456716\n",
      " -0.59519394  0.644753   -0.5832032  -0.96009443 -0.57108604 -0.50981106\n",
      " -0.28967604 -1.09066198  2.50810898  2.53620751 -0.3751632   0.3452038\n",
      " -0.84023665 -0.83612957]\n"
     ]
    }
   ],
   "source": [
    "arr = np.random.randn(20)\n",
    "print(np.random.permutation(arr))"
   ]
  },
  {
   "cell_type": "markdown",
   "id": "14fa94ab-ffd5-425a-8a18-f1b6d53bc87b",
   "metadata": {},
   "source": [
    " ## Esercizio 8\n",
    "-     Scrivere il numpy  array 2d, A, [[10,11,12],[13,14,15],[16,17,18]] \n",
    "-     trasformarlo in un numpy array 1d usando il metodo .ravel()  \n",
    "-     Si tratta di una copia o di una vista?"
   ]
  },
  {
   "cell_type": "code",
   "execution_count": 46,
   "id": "e224284c-a6cf-44bb-84f5-340823e8cd1a",
   "metadata": {},
   "outputs": [
    {
     "name": "stdout",
     "output_type": "stream",
     "text": [
      "[[10 11 12]\n",
      " [13 14 15]\n",
      " [16 17 18]]\n"
     ]
    }
   ],
   "source": [
    "A = np.arange(10,19,1)\n",
    "A.resize(3,3)\n",
    "print(A)"
   ]
  },
  {
   "cell_type": "code",
   "execution_count": 40,
   "id": "a9dc96e4-ce14-4401-885c-33961fae7fbf",
   "metadata": {},
   "outputs": [
    {
     "name": "stdout",
     "output_type": "stream",
     "text": [
      "[10 11 12 13 14 15 16 17 18]\n"
     ]
    }
   ],
   "source": [
    "print(A.ravel())"
   ]
  },
  {
   "cell_type": "markdown",
   "id": "d4ea54f9-6e5c-4c82-8e9e-f4e7b8bb55e5",
   "metadata": {},
   "source": [
    "Ravel fa una vista"
   ]
  },
  {
   "cell_type": "markdown",
   "id": "8cef420c-3ee7-487a-b872-83c1460e11fe",
   "metadata": {},
   "source": [
    "## Esercizio 9\n",
    "-     Scrivere il numpy  array 2d, A, [[10,11,12],[13,14,15],[16,17,18]] \n",
    "-     trasformarlo in un numpy array 1d usando il metodo  .flatten().\n",
    "-     Si tratta di una copia o di una vista?"
   ]
  },
  {
   "cell_type": "code",
   "execution_count": 47,
   "id": "3ccb4c3a-4fd1-47f3-814e-cb0772518ad3",
   "metadata": {},
   "outputs": [
    {
     "name": "stdout",
     "output_type": "stream",
     "text": [
      "[10 11 12 13 14 15 16 17 18]\n"
     ]
    }
   ],
   "source": [
    "A = np.arange(10,19,1)\n",
    "A.resize(3,3)\n",
    "print(A.flatten())"
   ]
  },
  {
   "cell_type": "markdown",
   "id": "fc6cbfee-3fcf-4081-b766-d02fb664479a",
   "metadata": {},
   "source": [
    "Flatten fa una copia"
   ]
  },
  {
   "cell_type": "markdown",
   "id": "a0b881a4-1836-4e2a-83aa-e03f4398feb5",
   "metadata": {},
   "source": [
    " ## Esercizio 10\n",
    "-     creare i due  numpy array 1d\n",
    "        f1= [ 0  1  2  3  4  5  6  7  8  9 10 11 12 13 14 15]  \n",
    "        f2= [16 17 18 19 20 21 22 23 24 25 26 27 28 29 30 31]\n",
    "-     \"vederli\" come matrici  4x4 ed effettuarne il prodotto scalare, memorizzando in f3 la matrice che nasce dal loro prodotto."
   ]
  },
  {
   "cell_type": "code",
   "execution_count": 55,
   "id": "a817252b-0856-4855-a525-343ae0fa11ce",
   "metadata": {},
   "outputs": [
    {
     "name": "stdout",
     "output_type": "stream",
     "text": [
      "[[ 152  158  164  170]\n",
      " [ 504  526  548  570]\n",
      " [ 856  894  932  970]\n",
      " [1208 1262 1316 1370]]\n"
     ]
    }
   ],
   "source": [
    "f1 = np.arange(16).reshape(4,4)\n",
    "f2 = np.arange(16,32).reshape(4,4)\n",
    "f3 = np.dot(f1,f2)\n",
    "print(f3)"
   ]
  },
  {
   "cell_type": "markdown",
   "id": "681aca16-584c-451f-b9da-cba4b11faa5e",
   "metadata": {},
   "source": [
    "## Esercizio 11\n",
    "Costruire:\n",
    " -     Numpy Array A di shape (2,10) : array di valori random campionati da una distribuzione gaussiana con media 0 e varianza 1.\n",
    " -     Numpy array 1D B di shape (20,) formato dagli interi da 0 a 19.\n",
    " \n",
    " \"Vedere\" A come un array 1D di 20 elementi ed effettuare la somma di A+B\n"
   ]
  },
  {
   "cell_type": "code",
   "execution_count": 62,
   "id": "17253e43-ee45-4968-b4c4-7d63399ec1bd",
   "metadata": {},
   "outputs": [
    {
     "name": "stdout",
     "output_type": "stream",
     "text": [
      "[-1.00856122  2.81710972  3.21482036  2.20526771  0.75066861  4.39187263\n",
      "  7.55206347  5.26163814  7.42129534  9.02996091  9.20566319  9.73714902\n",
      " 10.36184291 13.43205543 13.30046439 15.56093259 16.52323209 17.61416656\n",
      " 17.53843154 17.80361944]\n",
      "[[-1.00856122  1.81710972  1.21482036 -0.79473229 -3.24933139 -0.60812737\n",
      "   1.55206347 -1.73836186 -0.57870466  0.02996091]\n",
      " [-0.79433681 -1.26285098 -1.63815709  0.43205543 -0.69953561  0.56093259\n",
      "   0.52323209  0.61416656 -0.46156846 -1.19638056]] [ 0  1  2  3  4  5  6  7  8  9 10 11 12 13 14 15 16 17 18 19]\n"
     ]
    }
   ],
   "source": [
    "A = np.random.randn(2,10)\n",
    "B = np.arange(20)\n",
    "print(A.ravel() + B)\n",
    "print(A,B)"
   ]
  },
  {
   "cell_type": "markdown",
   "id": "020920a7-7554-4815-b6a6-c9579d0b566c",
   "metadata": {},
   "source": [
    "## Esercizio 12\n",
    "-     Costruire f, un numpy array 1D , di shape (10,) costituito da 10 valori equidistanti nell'intervallo [0,1]\n",
    "-     aumentarne la dimensionalità, in maniera tale che abbia shape (10,1)"
   ]
  },
  {
   "cell_type": "code",
   "execution_count": null,
   "id": "2074f991-36b5-4deb-8b1e-8cbdcc290a8c",
   "metadata": {},
   "outputs": [],
   "source": [
    "f = np.linspace(0,1,10)\n",
    "f.reshape(10,1)"
   ]
  },
  {
   "cell_type": "markdown",
   "id": "610f98b2-3f2b-46e0-8a51-ac682a7b46a3",
   "metadata": {},
   "source": [
    "## Esercizio 13\n",
    "-     Costruire i seguenti numpy array\n",
    "      a= np.array([14,13,12,11])\n",
    "      b=np.array([[4,3,2,1],[9,10,11,12]])\n",
    "\n",
    "  Costruire il numpy array che si ottiene concatenando a e b per righe"
   ]
  },
  {
   "cell_type": "markdown",
   "id": "51740675-7696-4803-9506-e593431e8a27",
   "metadata": {},
   "source": [
    "## Esercizio 14\n",
    "-     Costruire i seguenti numpy array\n",
    "      a= np.array([14,13,12,11])\n",
    "      b=np.array([[4,3,2,1],[9,10,11,12],[4,3,2,1],[9,10,11,12]])\n",
    "\n",
    "-\n",
    "- Costruire il numpy array che si ottiene concatenando a e b per colonne"
   ]
  },
  {
   "cell_type": "markdown",
   "id": "0cd10bd7-8d9e-4e99-827e-83cf83393782",
   "metadata": {},
   "source": [
    "## Esercizio 15\n",
    "Costruire, facendo uso di una sola riga di codice, la matrice A di ordine 10, che ha gli unici elementi diversi da zero, sulla diagonale principale, sulla codiagonale inferiore e sulla codiagonale superiore:\n",
    "\n",
    "elementi diagonali $A_{i,i}=10 \\quad$, i=1,20\n",
    "\n",
    "elementi nella codiagonale inferiore $A_{i-1,i}=-12, \\quad$ i=2,..,20, \n",
    "\n",
    "elementi nella codiagonale superiore $A_{i,i+1}=-2 \\quad$ i=1,..,19"
   ]
  },
  {
   "cell_type": "markdown",
   "id": "53d3ad23-63ab-4719-b2d2-f2b1cb942063",
   "metadata": {},
   "source": [
    "## Esercizio 16\n",
    "Costruire la matrice identità, denominata *I*,  della stessa dimensione di *A*"
   ]
  },
  {
   "cell_type": "markdown",
   "id": "b5257ffc-b9c9-4d22-a3b4-427b03f2e8dc",
   "metadata": {},
   "source": [
    "## Esercizio 17\n",
    "Facendo uso dell'operatore slicing *:* ,costruire la matrice AA selezionando dalla matrice A le righe che vanno dalla 2 alla 9 con step 2 e le colonne che vanno dalla 3 alla 6 con step 2.\n",
    "La matrice AA è una vista o una copia?"
   ]
  },
  {
   "cell_type": "markdown",
   "id": "090aeaa9-fb12-44bc-9560-5b11a0e6f503",
   "metadata": {},
   "source": [
    "## Esercizio 18\n",
    "Facendo uso dell'operatore slicing *:*, costruire la matrice A1 selezionando dalla matrice A le colonne che vanno dalla 1 alla 5 con step 2.  Trasforma la matrice A1 in una copia."
   ]
  },
  {
   "cell_type": "markdown",
   "id": "a5449d1f-1232-4ba0-a2d6-4d2e2d9c7a36",
   "metadata": {},
   "source": [
    "## Esercizio 19\n",
    "\n",
    "Costruisci due numpy array A e B di shape (5,5) \n",
    "   - A formata da numeri interi casuali  nell'intervallo [1,20]\n",
    "   - B formata da numeri interi casuali  nell'intervallo [1,6]\n",
    " \n",
    "  Costruisci con una sola riga di codice le seguenti matrici\n",
    "  \n",
    "  C=A+B   dove  $\\quad c_{ij}=a_{ij}+b_{ij} \\quad i=0,..,n, \\quad j=0,...,n$\n",
    "  \n",
    "  D=A-B   dove  $\\quad d_{ij}=a_{ij}-b_{ij} \\quad i=0,..,n, \\quad j=0,...,n$\n",
    "  \n",
    "  E=A*B   dove  $\\quad e_{ij}=a_{ij}*b_{ij} \\quad i=0,..,n, \\quad j=0,...,n$\n",
    "  \n",
    "  F=A/B   dove  $\\quad f_{ij}=a_{ij}/b_{ij} \\quad i=0,..,n, \\quad j=0,...,n$"
   ]
  },
  {
   "cell_type": "markdown",
   "id": "5a4ad10c-ccfa-45ce-b6ba-b7ddab44db3d",
   "metadata": {},
   "source": [
    "## Esercizio 20\n",
    "Dato array NumPy che rappresenta le vendite giornaliere di un negozio per un mese,\n",
    "vendite = np.random.randint(50, 200, 30) \n",
    "\n",
    "        Trova tutti i giorni in cui le vendite sono state superiori a 150.\n",
    "\n",
    "        Calcola la media delle vendite solo per i giorni in cui sono state superiori a 150.\n",
    "\n",
    "        Imposta le vendite a 0 per tutti i giorni in cui sono state inferiori a 100.\n"
   ]
  },
  {
   "cell_type": "markdown",
   "id": "d90da717-8cd5-425f-937e-588d6ccb045a",
   "metadata": {
    "tags": []
   },
   "source": [
    "## Esercizio 21\n",
    "Costruisci A, un numpy array 2d di shape (3,3) e b,  un numpy array 2d di shape (3,1)\n",
    "e somma b ad ogni colonna di A b\n"
   ]
  },
  {
   "cell_type": "markdown",
   "id": "ece2f514-aea7-4883-9b5f-8671d698c761",
   "metadata": {},
   "source": [
    "# Esercizio 22\n",
    "dato il numpy array 2d G=np.linspace(0,10,20).reshape(-1,4), scambia in G la seconda riga con la quarta riga"
   ]
  },
  {
   "cell_type": "markdown",
   "id": "a2c733be-fc9f-4a0a-80e0-fa1570468da3",
   "metadata": {},
   "source": [
    "## Esercizio 23\n",
    "Visualizzare il grafico della funzione $f(x)=sin^2(x)/x$ in 200 punti equidistanti nell'intervallo $[0.1,2\\pi]$"
   ]
  },
  {
   "cell_type": "markdown",
   "id": "32f6ae8b-ccce-47f1-b196-820a96c325fd",
   "metadata": {},
   "source": [
    "## Esercizio 24\n",
    "\n",
    "Data il numpy arra2d ottenuto facendo un reshape a (4,4) di un numpy array 1d di 16 valori equidistanti nell'intervallo [0,4]\n",
    "ed un numpy array 1d di 4 valori  interi casuali nell'intervallo [10,60], costruire il prodotto scalare A per b,\n",
    "usando A@b, e vettorizzando solo il ciclo interno.\n"
   ]
  },
  {
   "cell_type": "markdown",
   "id": "fb626777-c3f2-423b-a01b-c9e80032e308",
   "metadata": {},
   "source": [
    "## Esercizio 25\n",
    "Dato g un numpy array 2d, estendilo di una riga in alto ed di una riga in basso, di una colonna a sinistra ed di una colonna a destra, usa la funzione g_est= np.pad(g,(1,1),mode='reflect'). Visualizza 'g_est' e commenta cosa vedi."
   ]
  },
  {
   "cell_type": "markdown",
   "id": "958c2100-787e-438b-a162-0aa08465f476",
   "metadata": {},
   "source": [
    "## Esercizio 26\n",
    "Scrivi un programma Python che esegua l'elaborazione di un'immagine utilizzando un filtro di media. \n",
    "\n",
    "Utilizza il padding per gestire i pixel del bordo durante l'applicazione del filtro.\n",
    "\n",
    "Il programma deve seguire questi passaggi:\n",
    "\n",
    "- Carica l'immagine: Carica l'immagine 'cameraman.png' utilizzando la libreria Matplotlib.**image=plt.imread('cameraman.png')**\n",
    "- Visualizza l'immagine originale **plt.imshow(image,cmap='gray')**\n",
    "- definisce la dimensione del filtro, dim_filtro\n",
    "- Applica il padding: Applica un padding costante di dim_filtro//2 pixel a tutti i bordi dell'immagine (utilizzando il metodo di numpy **image_bordered=np.pad(image,(dim_filtro//2,dim_filtro//2),, mode='reflect')**\n",
    "- Crea il filtro di media: Crea un filtro di media di dimensioni *dim_filtroxdim_filtro*, dove tutti gli elementi sono pari a 1/(dim_filtroxdim_filtro)\n",
    "- Applica il filtro: Scorri ogni pixel dell'immagine con padding (escludendo i bordi aggiunti) e applica il filtro di media.\n",
    "\n",
    "   *Per ogni pixel, calcola la somma dei prodotti tra i pixel della sottomatrice dim_filtroxdim_filtro centrata sul pixel corrente e il filtro.*\n",
    "   \n",
    "- Crea l'immagine filtrata: Crea un nuovo array NumPy che rappresenta l'immagine filtrata, dove ogni pixel contiene il risultato dell'applicazione del filtro.\n",
    "- Visualizza l'immagine filtrata: Visualizza l'immagine filtrata utilizzando Matplotlib con la mappa di colori 'gray'.\n",
    "- Aggiungi una colorbar per visualizzare la scala dei valori dell'immagine filtrata.\n",
    "- Mostra l'immagine filtrata con Matplotlib.\n",
    "\n",
    "\n",
    "Requisiti:\n",
    "\n",
    "-  Utilizzare la libreria Matplotlib per caricare e visualizzare l'immagine.\n",
    "-  Utilizzare la libreria NumPy per la manipolazione degli array e per il padding."
   ]
  }
 ],
 "metadata": {
  "kernelspec": {
   "display_name": "Python 3 (ipykernel)",
   "language": "python",
   "name": "python3"
  },
  "language_info": {
   "codemirror_mode": {
    "name": "ipython",
    "version": 3
   },
   "file_extension": ".py",
   "mimetype": "text/x-python",
   "name": "python",
   "nbconvert_exporter": "python",
   "pygments_lexer": "ipython3",
   "version": "3.12.4"
  }
 },
 "nbformat": 4,
 "nbformat_minor": 5
}
