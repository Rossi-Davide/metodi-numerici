





import numpy as np
import time as time


arr1 = np.random.randn(5000,5000)
arr2 = np.random.randn(5000,5000)
print(arr)


initial = time.time()
sum_vet = arr1 + arr2
fin = time.time()
print(fin - initial)


initial = time.time()
n,m = arr1.shape
sum_el = np.zeros_like(arr1)
for i in range(n):
    for j in range(m):
        sum_el = arr1[i,j]+arr2[i,j]

fin = time.time()
print(fin - initial)





s = np.linspace(0,20,40)
print(s)


s = s.reshape((4,10))
print(s)








t = np.linspace(0,4,100)
t = t.reshape((25,4))
print(t)





C = np.arange(15,41,2)
print(C)


C.resize(7,2)





cas = np.random.randint(1,100,10)
print(cas)





cas = np.random.randint(100,200,30)
print(cas)


np.random.shuffle(cas)
print(cas)





arr = np.random.randn(20)
print(np.random.permutation(arr))





A = np.arange(10,19,1)
A.resize(3,3)
print(A)


print(A.ravel())








A = np.arange(10,19,1)
A.resize(3,3)
print(A.flatten())








f1 = np.arange(16).reshape(4,4)
f2 = np.arange(16,32).reshape(4,4)
f3 = np.dot(f1,f2)
print(f3)





A = np.random.randn(2,10)
B = np.arange(20)
print(A.ravel() + B)
print(A,B)





f = np.linspace(0,1,10)
f.reshape(10,1)










































