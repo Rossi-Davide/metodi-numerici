{
 "cells": [
  {
   "cell_type": "markdown",
   "id": "a930e8ce-df3a-4b93-b967-4421ef43f915",
   "metadata": {},
   "source": [
    "# Esame di Metodi Numerici del 7 Maggio 2025\n",
    "\n",
    "## Ore 14"
   ]
  },
  {
   "cell_type": "markdown",
   "id": "e9915d08-a404-47ad-bd4b-9eb31057a0df",
   "metadata": {},
   "source": [
    "## Esercizio 1"
   ]
  },
  {
   "cell_type": "markdown",
   "id": "b4a0d09f-5603-49d0-9072-50675c119d71",
   "metadata": {},
   "source": [
    "\n",
    " Nel file ````test_7_maggio_2025.mat```` sono memorizzati  le matrici di due sistemi lineari:\n",
    " \n",
    "    A  x = b \n",
    "\n",
    "    A1 x1 = b1\n",
    " \n",
    " dove A, A1 sono le matrici dei coefficienti, b e b1 sono i termini noti, ed x ed x1 sono i vettori incogniti da determinare.\n",
    "\n",
    " - Verificare che per risolvere ciascuno dei due sistemi sia possibile utilizzare i due metodi di discesa (visti a lezione) ed il metodo di Gauss-Seidel, richiamando i risultati teorici opportuni.\n",
    " **Punti 1**\n",
    " - implementare i tre  algoritmi e  dire quante iterazioni richiede ciascuno di essi  per calcolare la soluzione con una toll=1e-6 e maxit=2000. Visualizzare in un grafico l'errore in scala logaritmica ad ogni iterazione per ciascuno dei due metodi. **Punti 7**\n",
    " - Analizzare l'indice di condizionamento delle due matrici e richiamare teoricamente cosa questo implica in termini della velocità di convergenza  dei tre metodi alla soluzione, richiamando i risultati teorici visti a lezione.**Punti 3**\n",
    "\n",
    "\n",
    "**Punti totali 11**\n",
    "\n",
    "Per la lettura dei dati procedere nel seguente modo:\n",
    "\n",
    "``from scipy.io import loadmat``\n",
    "\n",
    "``import numpy as np``\n",
    "\n",
    "``dati = loadmat('test_7_maggio_2025')``\n",
    "\n",
    "``A=dati[\"A\"] ``\n",
    "\n",
    "``A=A.astype(float)``\n",
    "\n",
    "`` b=dati[\"b\"] ``\n",
    "\n",
    "`` b=b.astype(float)``\n",
    "\n",
    "``A1=dati[\"A1\"] ``\n",
    "\n",
    "``A1=A1.astype(float)``\n",
    "\n",
    "`` b1=dati[\"b1\"] ``\n",
    "\n",
    "`` b1=b1.astype(float)``\n"
   ]
  },
  {
   "cell_type": "markdown",
   "id": "15bef4ac-ffd6-4318-8098-fd4d057cd256",
   "metadata": {},
   "source": [
    "## Esercizio  2\n",
    "\n",
    "**Siano assegnati i punti del piano di coordinate $(x_i, y_i)$, $i=1,\\ldots,3$ con**\n",
    "$$\n",
    "\\begin{array}{c}\n",
    "x_1=1, \\quad x_2=4, \\quad x_3=0, \\\\\n",
    "y_1=1, \\quad y_2=0, \\quad y_3=4 .\n",
    "\\end{array}\n",
    "$$ \n",
    "Scrivere lo script Python  in cui\n",
    "- si costruisce il sistema lineare  ottenuto imponendo il passaggio della circonferenza di equazione $x^2+y^2+a_1x+a_2y+a_3=0$ per i tre punti assegnati, e si denotino con ${\\bf M}$ e ${\\bf b}$ la matrice dei coefficienti e il termine noto ottenuti;   [**punti 3**]\n",
    "\n",
    "- si calcola la soluzione del sistema lineare ${\\bf M}{\\bf a}={\\bf b}$ usando il metodo di fattorizzazione adatto alle caratteristiche della matrice $M$[**punti 2**]\n",
    "\n",
    "- dopo averne determinato centro e raggio (vedi sotto formula), si rappresentino in una stessa figura la circonferenza di equazione $x^2+y^2+a_1x+a_2y+a_3=0$ (dove i coefficienti $a_i$ rappresentano la soluzione del sistema lineare del punto precedente) e i tre punti assegnati dal problema.[**punti 1**]\n",
    "- Abbiamo costruito la circonferenza  ................... i punti del piano\n",
    "  [**punti 1**] \n",
    "  (completare al posto dei puntini)\n"
   ]
  },
  {
   "cell_type": "markdown",
   "id": "1d0eb852-99ec-4174-a4b5-aaa14899cc9f",
   "metadata": {},
   "source": [
    "**Siano assegnati i punti del piano di coordinate $(x_i, y_i)$, $i=1,\\ldots,4$ con**\n",
    "$$\n",
    "\\begin{array}{c}\n",
    "x_1=1, \\quad x_2=4, \\quad x_3=0, \\quad x_4=5 \\\\\n",
    "y_1=1, \\quad y_2=0, \\quad y_3=4  \\quad y_4=6.\n",
    "\\end{array}\n",
    "$$ \n",
    "Scrivere lo script Python  in cui\n",
    "- si costruisce il sistema lineare sovradeterminanto ottenuto imponendo il passaggio della circonferenza di equazione $x^2+y^2+a_1x+a_2y+a_3=0$ per i quattro punti assegnati, e si denotino con ${\\bf A}$ e ${\\bf c}$ la matrice dei coefficienti e il termine noto ottenuti;   [**punti 1**]\n",
    "\n",
    "- si sfrutti la decomposizione QR  della matrice A  per ottenere la soluzione ${\\bf a}^*$ del problema ai minimi quadrati $\\min_{{\\bf a} \\in \\mathbb{R}^3} \\|{\\bf A}{\\bf a}-{\\bf c}\\|_2^2$  e  si calcoli il valore di $\\|{\\bf A}{\\bf a}^*-{\\bf c}\\|_2^2$;   [**punti 5**]\n",
    "\n",
    "-  dopo averne determinato centro e raggio, si rappresentino in una stessa figura la circonferenza di equazione $x^2+y^2+a^*_1x+a^*_2y+a^*_3=0$ (individuata dalla soluzione ${\\bf a}^*$ del problema ai minimi quadrati) e i quattro punti assegnati dal problema.[**punti 1**]\n",
    "-  \n",
    "**Nota Bene**: Si ricorda che data una circonferenza nella forma canonica\n",
    "$$ x^2+y^2+a_1 x+a_2 x+a_3=0$$\n",
    "\n",
    "le coordinate del suo centro sono \n",
    "$$C≡(-a_1/2,-a_2/2)$$\n",
    "\n",
    "e la lunghezza del suo raggio è data da:\n",
    "\n",
    "$$r=\\sqrt{\\frac{a_1^2}{4}+\\frac{a_2^2}{4} -a_3}$$\n",
    "\n",
    "e la circoferenza può essere rappresentata in forma parametrica $C(t),  t \\in [0, 2 \\cdot \\pi]$ e le due componenti parametriche sono $$x(t)= C_0+r\\cdot cos(t);$$ $$ y(t)= C_1+r\\cdot sin(t)$$\n",
    "\n",
    "\n",
    "**Punti totali 14**"
   ]
  },
  {
   "cell_type": "code",
   "execution_count": 4,
   "id": "7b32ceeb-c30e-4ba8-9fac-a3b19650fc73",
   "metadata": {},
   "outputs": [],
   "source": [
    "import numpy as np\n",
    "import scipy as sp\n",
    "from SolveTriangular import *\n",
    "M=np.array([[1,1,1],[4,0,1],[0,4,1]])\n",
    "b=np.array([[-2],[-16],[-16]])\n"
   ]
  },
  {
   "cell_type": "code",
   "execution_count": 5,
   "id": "a494e5c5-b5b9-42ab-867c-e0538a0fd5bd",
   "metadata": {},
   "outputs": [
    {
     "name": "stdout",
     "output_type": "stream",
     "text": [
      "Condizionamento di M 10.403882032022073\n"
     ]
    }
   ],
   "source": [
    "condM=np.linalg.cond(M)\n",
    "print('Condizionamento di M', condM)\n",
    "PT, L, U = sp.linalg.lu(M)\n",
    "t,flag=Lsolve(L, PT.T@b)\n",
    "a,flag=Usolve(U,t)\n"
   ]
  },
  {
   "cell_type": "code",
   "execution_count": 7,
   "id": "c936c7ac-5e42-4612-bb8b-002d56d1fd9d",
   "metadata": {},
   "outputs": [
    {
     "name": "stdout",
     "output_type": "stream",
     "text": [
      "3.5355339059327378\n"
     ]
    },
    {
     "name": "stderr",
     "output_type": "stream",
     "text": [
      "C:\\Users\\davide.rossi47\\AppData\\Local\\Temp\\ipykernel_13412\\2623595500.py:5: DeprecationWarning: Conversion of an array with ndim > 0 to a scalar is deprecated, and will error in future. Ensure you extract a single element from your array before performing this operation. (Deprecated NumPy 1.25.)\n",
      "  r1=math.sqrt((a[0]**2)/4+(a[1]**2)/4-a[2])\n"
     ]
    },
    {
     "data": {
      "text/plain": [
       "[<matplotlib.lines.Line2D at 0x1cf0947c110>]"
      ]
     },
     "execution_count": 7,
     "metadata": {},
     "output_type": "execute_result"
    },
    {
     "data": {
      "image/png": "[encoded data removed]",
      "text/plain": [
       "<Figure size 640x480 with 1 Axes>"
      ]
     },
     "metadata": {},
     "output_type": "display_data"
    }
   ],
   "source": [
    "import matplotlib.pyplot as plt\n",
    "import math\n",
    "Cx=-a[0]/2\n",
    "Cy=-a[1]/2\n",
    "r1=math.sqrt((a[0]**2)/4+(a[1]**2)/4-a[2])\n",
    "print(r1)\n",
    "t=np.linspace(0,2*np.pi,100)\n",
    "x=Cx+r1*np.cos(t)\n",
    "y=Cy+r1*np.sin(t)\n",
    "plt.plot(x,y,'r-')"
   ]
  },
  {
   "cell_type": "code",
   "execution_count": 12,
   "id": "e6ea8116-9492-444a-8912-b5c41bd0d206",
   "metadata": {},
   "outputs": [],
   "source": [
    "def qrLS(A,b):\n",
    "    n=A.shape[1]  # numero di colonne di A\n",
    "    Q,R=sp.linalg.qr(A)\n",
    "    h=Q.T@b\n",
    "    x,flag = Usolve(R[0:n,0:n],h[0:n])\n",
    "    residuo=np.linalg.norm(h[n:])**2\n",
    "    return x,residuo\n",
    "\n"
   ]
  },
  {
   "cell_type": "code",
   "execution_count": 13,
   "id": "fd60ed18-fa6e-41d3-8583-f77e498429cc",
   "metadata": {},
   "outputs": [
    {
     "name": "stdout",
     "output_type": "stream",
     "text": [
      "[[1. 1. 1.]\n",
      " [4. 0. 1.]\n",
      " [0. 4. 1.]\n",
      " [5. 6. 1.]]\n",
      "3.2805845251533885\n"
     ]
    },
    {
     "name": "stderr",
     "output_type": "stream",
     "text": [
      "C:\\Users\\davide.rossi47\\AppData\\Local\\Temp\\ipykernel_13412\\3953335591.py:10: DeprecationWarning: Conversion of an array with ndim > 0 to a scalar is deprecated, and will error in future. Ensure you extract a single element from your array before performing this operation. (Deprecated NumPy 1.25.)\n",
      "  r1=math.sqrt((a1[0]**2)/4+(a1[1]**2)/4-a1[2])\n"
     ]
    },
    {
     "data": {
      "text/plain": [
       "[<matplotlib.lines.Line2D at 0x1cf095b0b90>,\n",
       " <matplotlib.lines.Line2D at 0x1cf095da8a0>]"
      ]
     },
     "execution_count": 13,
     "metadata": {},
     "output_type": "execute_result"
    },
    {
     "data": {
      "image/png": "[encoded data removed]",
      "text/plain": [
       "<Figure size 640x480 with 1 Axes>"
      ]
     },
     "metadata": {},
     "output_type": "display_data"
    }
   ],
   "source": [
    "A=np.array([[1,1,1],[4,0,1],[0,4,1],[5.0,6,1]])\n",
    "c1=np.array([[-2],[-16],[-16],[-61.0]])\n",
    "pxi=np.array([1,4,0,5.0])\n",
    "pyi=np.array([1,0,4,6.0])\n",
    "print(A)\n",
    "#risolvere mediante la decomposizione qr\n",
    "a1,residuo=qrLS(A,c1)\n",
    "Cx=-a1[0]/2\n",
    "Cy=-a1[1]/2\n",
    "r1=math.sqrt((a1[0]**2)/4+(a1[1]**2)/4-a1[2])\n",
    "print(r1)\n",
    "t=np.linspace(0,2*np.pi,100)\n",
    "x=Cx+r1*np.cos(t)\n",
    "y=Cy+r1*np.sin(t)\n",
    "plt.plot(x,y,'r-',pxi,pyi,'bo')"
   ]
  },
  {
   "cell_type": "markdown",
   "id": "88a2fea6-a63d-48f7-be37-36ad15e53c10",
   "metadata": {},
   "source": [
    "## Domande Intelligenza Artificiale\n",
    "**NB: Ogni risposta esatta:  +0.5 punti, ogni risposta errata: -0.5 punti. La mancanza di risposta:  0 punti**"
   ]
  },
  {
   "cell_type": "markdown",
   "id": "70f0e898-df6c-4bfa-b4f9-ca09beca66fc",
   "metadata": {},
   "source": [
    "**1** \n",
    "Quale delle seguenti affermazioni è FALSA riguardo alle reti MLP (Multilayer Perceptron)?\n",
    "\n",
    "- Le reti MLP sono composte da uno o più strati nascosti di neuroni.\n",
    "- Le reti MLP utilizzano una funzione di attivazione non lineare per introdurre una non linearità nel modello.\n",
    "\n",
    "- Le reti MLP sono in grado di apprendere solo relazioni lineari tra i dati di input e output.\n",
    "\n",
    "- Le reti MLP possono essere utilizzate per risolvere una vasta gamma di problemi di apprendimento automatico, tra cui la classificazione e la regressione.\n"
   ]
  },
  {
   "cell_type": "markdown",
   "id": "2c623990-f0ee-4c6a-9bb3-798fdb8566b1",
   "metadata": {},
   "source": [
    "**2.**  Quale delle seguenti affermazioni è la definizione CORRETTA di learning rate nel training di una rete neurale?\n",
    "\n",
    "A) Il numero di volte in cui l'intero set di dati viene utilizzato durante il training.\n",
    "\n",
    "B) Un parametro che controlla la velocità con cui i pesi della rete vengono aggiornati durante il training.\n",
    "\n",
    "C) Il numero di neuroni presenti nello strato di output della rete.\n",
    "\n",
    "D) La funzione di attivazione utilizzata dai neuroni della rete\n"
   ]
  },
  {
   "cell_type": "markdown",
   "id": "57b67147-0196-4d9c-b165-43c489a1e8b3",
   "metadata": {},
   "source": [
    "3- Quale delle seguenti affermazioni è vera riguardo ai layer convoluzionali in una rete CNN?\n",
    "\n",
    "(a) I layer convoluzionali applicano una funzione di attivazione a ciascun elemento della feature map in ingresso.\n",
    "\n",
    "(b) I layer convoluzionali eseguono una convoluzione tra i filtri convoluzionali e la feature map in ingresso, producendo una nuova feature map.\n",
    "\n",
    "(c) I layer convoluzionali riducono la dimensione spaziale della feature map in ingresso.\n",
    "\n",
    "(d) I layer convoluzionali aumentano la dimensione spaziale della feature map in ingresso."
   ]
  },
  {
   "cell_type": "markdown",
   "id": "109563b2-32a8-430a-bf6e-107733ef69f4",
   "metadata": {},
   "source": [
    "**4.**  \n",
    "Quale tra le seguenti affermazioni descrive   il compito della funzione di attivazione nel training di una rete neurale?\n",
    "\n",
    "- Trasformare i dati di input in un formato compatibile con la rete neurale\n",
    "\n",
    "- Introdurre una non linearità nel flusso di informazioni della rete\n",
    "\n",
    "- Calcolare l'errore tra l'output previsto e quello effettivo\n",
    "\n",
    "- Aggiornare i pesi delle connessioni tra i neuroni softmax\n"
   ]
  },
  {
   "cell_type": "markdown",
   "id": "01eb159d-42f7-48fd-8775-9271fbe08968",
   "metadata": {},
   "source": [
    "**5.** Quale tra le seguenti affermazioni è FALSA riguardo alla suddivisione del dataset in un contesto di machine learning?\n",
    "\n",
    "- La suddivisione del dataset in set di training, validation e test è fondamentale per valutare correttamente le prestazioni di un modello di machine learning.\n",
    "- Il set di training viene utilizzato per addestrare il modello sui dati.\n",
    "- Il set di validation viene utilizzato per trovare le etichette dei dati di input\n",
    "- Il set di test viene utilizzato per valutare le prestazioni finali del modello su dati che non sono stati utilizzati per il training o la validation"
   ]
  },
  {
   "cell_type": "markdown",
   "id": "ee30dd96-03b6-4bee-963a-fc5dbb70179f",
   "metadata": {},
   "source": [
    "# Domande aperte"
   ]
  },
  {
   "cell_type": "markdown",
   "id": "d3c2ec08-fe6b-4f3e-b5b9-e28aab8991d5",
   "metadata": {},
   "source": [
    "**6. Descrivi in cosa consiste la fase di forward-propagation e back-propagation nell'ambito del training di una rete neurale, soffermandoti sull'importanza dell'algoritmo di backpropagation** per il calcolo delle derivate parziali della funzione costo rispetto ai pesi di tutti i layer **[punti 1.5]**"
   ]
  },
  {
   "cell_type": "markdown",
   "id": "0a783a9e-d3e6-41f8-a4de-00e909642aa0",
   "metadata": {},
   "source": [
    "**7** Learning rate adattivo per ogni peso (durante il processo di ottimizzazione) : Adagrad, RMSProp, Adadelta, Adam. (formula di aggiornamento dei pesi e discussioni)\n",
    "**[punti 3]**"
   ]
  },
  {
   "cell_type": "code",
   "execution_count": null,
   "id": "28defd68-5c72-496b-a7c5-71729b24e7de",
   "metadata": {},
   "outputs": [],
   "source": []
  }
 ],
 "metadata": {
  "kernelspec": {
   "display_name": "Python 3 (ipykernel)",
   "language": "python",
   "name": "python3"
  },
  "language_info": {
   "codemirror_mode": {
    "name": "ipython",
    "version": 3
   },
   "file_extension": ".py",
   "mimetype": "text/x-python",
   "name": "python",
   "nbconvert_exporter": "python",
   "pygments_lexer": "ipython3",
   "version": "3.12.4"
  }
 },
 "nbformat": 4,
 "nbformat_minor": 5
}
