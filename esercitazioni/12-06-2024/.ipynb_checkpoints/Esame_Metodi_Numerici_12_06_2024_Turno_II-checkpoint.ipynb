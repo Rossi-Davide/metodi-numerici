{
 "cells": [
  {
   "cell_type": "markdown",
   "id": "60ff1e86-85a2-45b1-9295-5d8e1897c7bc",
   "metadata": {},
   "source": [
    "## Esame Metodi Numerici  12 Giugno 2024 - Turno II Ore 12,30\n",
    "\n",
    "## Esercizio 1\n",
    "Si condiderino i due sistemi lineari:\n",
    "\n",
    "     A  x = b \n",
    "\n",
    "    A1 x1 = b1\n",
    "\n",
    "dove A, A1 sono le matrici dei coefficienti, b e b1 sono i termini noti, ed x ed x1 sono i vettori incongiti da determinare.\n",
    "I dati di questi due sistemi lineari sono contenuti nel file **testII.mat**.\n",
    "\n",
    "\n",
    "- Si implementino e si testino sui dati forniti almeno due metodi che sono adatti a risolvere sistemi lineari con le caratteristiche delle matrici dei coefficienti date in input.\n",
    "                                      **punti 8**\n",
    "- Si confrontino i risultati ottenuti e si giustifichino utilizzando  e richiamando gli aspetti teorici dei metodi implementati.\n",
    "                                      **punti 3**\n",
    "\n",
    "\n",
    "**Totale Punti 11**\n",
    "\n",
    "Per la lettura dei dati procedere nel seguente modo:\n",
    "\n",
    "``from scipy.io import loadmat``\n",
    "\n",
    "``import numpy as np``\n",
    "\n",
    "``dati = loadmat('testII')``\n",
    "\n",
    "``A=dati[\"A\"] ``\n",
    "\n",
    "``A=A.astype(float)``\n",
    "\n",
    "`` b=dati[\"b\"] ``\n",
    "\n",
    "`` b=b.astype(float)``\n",
    "\n",
    "``A1=dati[\"A1\"] ``\n",
    "\n",
    "``A1=A1.astype(float)``\n",
    "\n",
    "`` b1=dati[\"b1\"] ``\n",
    "\n",
    "`` b1=b1.astype(float)``\n"
   ]
  },
  {
   "cell_type": "markdown",
   "id": "3f689ff8-a214-461d-9cd9-e9edbf9e230d",
   "metadata": {},
   "source": [
    "# Esercizio 2\n",
    "\n",
    "-  Si consideri la funzione $$f(x)=2\\cdot x^4-(7/2) \\cdot x^3+(3/4) \\cdot x^2+x-1/4$$  \n",
    "\n",
    "-  Si rappresenti il grafico della funzione in [-1,2] e si determini in quanti punti la funzione si annulla.  **[punti: 1]**\n",
    "\n",
    "-  Si implementi  il metodo di Newton per il calcolo degli zeri di una funzione non lineare. **[punti: 3]**\n",
    "\n",
    "-  Si implementi il metodo di Bisezione per il calcolo degli zeri di una funzione non lineare. **[punti: 3]**\n",
    "\n",
    "-  Osservando il grafico della funzione, si identifichi,  per ogni punto in cui si annulla, un opportuno intervallo che lo contenga. Si applichi il metodo di Bisezione per determinare lo zero della funzione in tale sottointervallo.  Si dica se è possibile calcolare tutti gli zeri facendo uso del metodo di bisezione, richiamando il teorema su cui si basa il metodo di bisezione.  **[punti: 2]**\n",
    "\n",
    "-  Osservando il grafico della funzione, si identifichi,  per ogni punto in cui si annulla, un opportuno iterato iniziale in un intorno dello zero e si utilizzi  il metodo di Newton per determinare lo zero della funzione. Si calcoli l'ordine del metodo usando la funzione stima_ordine.\n",
    "   **[punti: 2]**\n",
    "\n",
    "-  Nel caso in cui si verifichi che il metodo di Newton abbia ordine 1, spiegare il perchè richiamando la teoria e modificare il metodo affinchè il suo ordine sia 2.  **[punti: 3]**\n",
    "\n",
    "  **Totale punti 14**\n",
    "\n",
    "\n",
    "\n"
   ]
  },
  {
   "cell_type": "code",
   "execution_count": 17,
   "id": "a0ad2af0-073f-48c1-9dc1-30b1dd6aedbd",
   "metadata": {},
   "outputs": [
    {
     "data": {
      "text/plain": [
       "[<matplotlib.lines.Line2D at 0x1788f628ad0>,\n",
       " <matplotlib.lines.Line2D at 0x1788f628b00>]"
      ]
     },
     "execution_count": 17,
     "metadata": {},
     "output_type": "execute_result"
    },
    {
     "data": {
      "image/png": "[encoded data removed]",
      "text/plain": [
       "<Figure size 640x480 with 1 Axes>"
      ]
     },
     "metadata": {},
     "output_type": "display_data"
    }
   ],
   "source": [
    "import numpy as np\n",
    "import sympy\n",
    "import matplotlib.pyplot as plt\n",
    "f = lambda x: 2*x**4-3.5*x**3+3/4.0*x**2+x-1.0/4\n",
    "xx=np.linspace(-1.0,2.0,100)\n",
    "plt.plot(xx,f(xx),xx,np.zeros_like(xx),'r')\n",
    "#se dobbiamo utilizzare metodi che richiedono le derivate per praticità possiamo usare le formule simboliche"
   ]
  },
  {
   "cell_type": "code",
   "execution_count": 6,
   "id": "1b374151-b4d0-455e-a500-d815e8903a5f",
   "metadata": {},
   "outputs": [],
   "source": [
    "import math\n",
    "def sign(x):\n",
    "  \"\"\"\n",
    "  Funzione segno che restituisce 1 se x è positivo, 0 se x è zero e -1 se x è negativo.\n",
    "  \"\"\"\n",
    "  return math.copysign(1, x)"
   ]
  },
  {
   "cell_type": "code",
   "execution_count": 7,
   "id": "1f849956-d937-4cf4-95b6-84e9b2d3a9bc",
   "metadata": {},
   "outputs": [],
   "source": [
    "def metodo_bisezione(fname, a, b, tolx):\n",
    " \n",
    " fa=fname(a)\n",
    " fb=fname(b)\n",
    " if sign(fa)*sign(fb) > 0:\n",
    "     print(\"Non è possibile applicare il metodo di bisezione \\n\")\n",
    "     return None, None,None\n",
    "\n",
    " it = 0\n",
    " v_xk = []\n",
    "\n",
    " \n",
    " \n",
    " while abs(b-a)>tolx:\n",
    "    xk = a+(b-a)/2\n",
    "    v_xk.append(xk)\n",
    "    it += 1\n",
    "    fxk=fname(xk)\n",
    "    if fxk==0:\n",
    "      return xk, it, v_xk\n",
    "\n",
    "    #Controllo dei segni\n",
    "    if sign(fa)*sign(fxk) > 0: #il nuovo intervallo è [xk,b]\n",
    "      a = xk\n",
    "      fa= fxk \n",
    "    elif sign(fb)*sign(fxk) > 0:\n",
    "      b = xk\n",
    "      fb= fxk\n",
    "        \n",
    "\n",
    " \n",
    " return xk, it, v_xk"
   ]
  },
  {
   "cell_type": "code",
   "execution_count": 8,
   "id": "b317d394-1a32-4a69-9cf3-badcbad36c18",
   "metadata": {},
   "outputs": [],
   "source": [
    "def newton(fname,fpname,x0,tolx,tolf,nmax):\n",
    "  \n",
    "        xk=[]\n",
    "       \n",
    "        it=0\n",
    "        errorex=1+tolx\n",
    "        erroref=1+tolf\n",
    "        while it<nmax and errorex>=tolx and erroref>=tolf:\n",
    "           \n",
    "           fx0=fname(x0)\n",
    "           if abs(fpname(x0))<=np.spacing(1):\n",
    "                print(\" derivata prima nulla in x0\")\n",
    "                return None, None,None\n",
    "           d=f(x0)/fpname(x0) \n",
    "\n",
    "           x1=x0-d\n",
    "           fx1=fname(x1)\n",
    "           erroref=np.abs(fx1)\n",
    "           if x1!=0:\n",
    "                errore=np.abs(d)/np.abs(x1)\n",
    "           else:\n",
    "                errore=np.abs(d)\n",
    "\n",
    "           it=it+1\n",
    "           x0=x1\n",
    "           xk.append(x1)\n",
    "          \n",
    "        if it==nmax:\n",
    "            print('Newton: raggiunto massimo numero di iterazioni \\n')\n",
    "            \n",
    "        \n",
    "        return x1,it,xk"
   ]
  },
  {
   "cell_type": "code",
   "execution_count": 15,
   "id": "323f7529-b4a2-4b79-9fe9-f97bcce5399a",
   "metadata": {},
   "outputs": [
    {
     "name": "stdout",
     "output_type": "stream",
     "text": [
      "Soluzione 0.24999999997089617 iterazioni 33\n"
     ]
    }
   ],
   "source": [
    "#la nostra funzione non ammette un solo 0, dunque è un problema mal posto\n",
    "a=-0.25\n",
    "b=0.5\n",
    "tolx=1e-10\n",
    "tolf=1e-10\n",
    "xbis,itbis,xkbis=metodo_bisezione(f,a,b,tolx)\n",
    "print(\"Soluzione\",xbis,\"iterazioni\",itbis)\n",
    "#notiamo che non esiste un intervallo valido per trovare la radice in 1.0 perchè i segni della funzione non sono discordi"
   ]
  },
  {
   "cell_type": "code",
   "execution_count": 18,
   "id": "85c13831-46a7-4bc6-a8fc-0ff732b4430a",
   "metadata": {},
   "outputs": [],
   "source": [
    "#metodi di newton per calcolare l'ultima radice\n",
    "#scrivere chiamata a newton, incorporare scipy"
   ]
  },
  {
   "cell_type": "markdown",
   "id": "2e317e55-6983-4f36-9f54-91ab25ee6e3e",
   "metadata": {},
   "source": [
    "## Domande Intelligenza Artificiale\n",
    "**NB: Ogni risposta esatta +0.5 punti, ogni risposta errata -0.5 punti. La mancanza di risposta 0 punti**"
   ]
  },
  {
   "cell_type": "markdown",
   "id": "11eacd04-c27a-44de-9d44-47c0431c9275",
   "metadata": {},
   "source": [
    "**1 Risolvere un problema mediante Machine Learning significa:**\n",
    "\n",
    " -  Fornire alla macchina i dati affinchè impari da sola a risolvere il problema\n",
    "\n",
    " - Fornire alla macchina solo dati etichettati affinchè impari da sola a risolvere il problema\n",
    "\n",
    " - Fornire alla macchina solo dati non etichettati affinchè impari da sola a risolvere il problema\n",
    "\n",
    " - Fornire alla macchina le esatte istruzioni per risolvere il problema"
   ]
  },
  {
   "cell_type": "markdown",
   "id": "52b1e385-3ea5-4137-88f0-4661d5e23745",
   "metadata": {},
   "source": [
    "**2  A cosa serve il validation set?**\n",
    "\n",
    "-  A trovare i migliori iperparametri del modello\n",
    "\n",
    "-  Ad addestrare il modello\n",
    "\n",
    "-  A testare il modello\n",
    "\n",
    "-  A trovare le etichette dei dati di input"
   ]
  },
  {
   "cell_type": "markdown",
   "id": "aeccbc74-c0d5-46ca-9e99-646df20e8f84",
   "metadata": {},
   "source": [
    "**3  Cosa è un Multi-Layer Perceptron?**\n",
    "\n",
    "-  Una rete multi-livello composta da neuroni completamente connessi\n",
    "\n",
    "-  Una rete muti-livello composta da livelli convolutivi e neuroni completamente connessi\n",
    "\n",
    "-  Una rete a singolo livello composta da neuroni completamente connessi\n",
    "\n",
    "- Un neurone artificiale con un determinato input e determinati valori di uscita"
   ]
  },
  {
   "cell_type": "markdown",
   "id": "4ab0b3aa-6477-4cba-b2ce-cdb4d34ecdfb",
   "metadata": {},
   "source": [
    "**4 Il livello softmax**\n",
    "\n",
    "- Trasforma i digits della rete in probabilità\n",
    "\n",
    "- Trasforma le probabilità della rete in digits\n",
    "\n",
    "-  Normalizza i valori di input della rete\n",
    "\n",
    "-  È indispensabile nel task di regressione"
   ]
  },
  {
   "cell_type": "markdown",
   "id": "0e870471-00c9-44d6-8668-b173ca092cfb",
   "metadata": {},
   "source": [
    "**5 In cosa consiste il task di regressione?**\n",
    "\n",
    "· Nel predire un valore continuo in output\n",
    "\n",
    "· Nel predire una classe in output\n",
    "\n",
    "· Nel predire un gruppo di appartenenza del dato di input\n",
    "\n",
    "· Nel predire una categoria in output"
   ]
  },
  {
   "cell_type": "markdown",
   "id": "1466859c-cbac-432f-a9f5-f175cfda1516",
   "metadata": {},
   "source": [
    "## Domande Aperte"
   ]
  },
  {
   "cell_type": "markdown",
   "id": "adf5621b-a9f0-473f-b7f3-316f78e317d1",
   "metadata": {},
   "source": [
    "**6. ** Forward e backward Propagation per l'allenamento di una rete neurale** [punti 1.5]\n",
    "\n",
    "**7 Metodo di ottimizzazione del gradient descent con momento**. Motivazioni e formula di aggiornamento dei pesi e commenti. [punti 3]"
   ]
  },
  {
   "cell_type": "code",
   "execution_count": null,
   "id": "58a12c0c-fac5-4727-a892-5c09895895b0",
   "metadata": {},
   "outputs": [],
   "source": [
    "**"
   ]
  }
 ],
 "metadata": {
  "kernelspec": {
   "display_name": "Python 3 (ipykernel)",
   "language": "python",
   "name": "python3"
  },
  "language_info": {
   "codemirror_mode": {
    "name": "ipython",
    "version": 3
   },
   "file_extension": ".py",
   "mimetype": "text/x-python",
   "name": "python",
   "nbconvert_exporter": "python",
   "pygments_lexer": "ipython3",
   "version": "3.12.4"
  }
 },
 "nbformat": 4,
 "nbformat_minor": 5
}
