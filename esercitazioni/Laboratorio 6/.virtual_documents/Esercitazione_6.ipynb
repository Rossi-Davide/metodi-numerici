











import math

def sign(x):
    return math.copysign(1,x)


def metodo_bisezione(fname,a,b,tolx):
    fa=fname(a)
    fb=fname(b)
    if sign(fa*fb)>=0:
        print("Impossibile applicre il metodo di bisezione")
        return None,None,None
    it=0
    v_xk=[]

    #andiamo avanti finché non localizziamo l'intervallino che contiene la nostra soluzione
    while abs(b-a)>tolx:
        xk=a+(b-a)/2
        v_xk.append(xk)
        it+=1
        fxk=fname(xk)
        if fxk==0:
            return xk,it,v_xk
        if sign(fa*fxk)<0:
            b=xk
            fb=fxk
        elif sign(fxk*fb)<0:
            a=xk
            fa=fxk
    return xk,it,v_xk
        


import numpy as np
import matplotlib.pyplot as plt

f1= lambda x:x**3-6*x**2-4*x+24
x=np.linspace(-3.0,8.0,100)
plt.plot(x,f1(x),x,np.ones_like(x))


def find_and_plot_solution(a,b,exact):
    a1=a
    b1=b
    tolx=1e-12
    xk,it,v_xk=metodo_bisezione(f,a1,b1,tolx)
    print("Soluzione di bisezione",xk,"Numero di iterazioni -->",it)
    alpha=exact #Soluzione esatta
    ek=np.abs(np.array(v_xk)-alpha) #errore assoluto
    plt.semilogy(np.arange(it),ek,'ro')


find_and_plot_solution(-3.0,1.4,-2.0,f1)


f2=lambda x:-(x+1)+math.exp(1)**(-x)
x=np.linspace(-3.0,8.0,100)
plt.plot(x,f2(x),x,np.ones_like(x))















